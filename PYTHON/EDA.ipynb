# EDA.ipynb

import pandas as pd
import matplotlib.pyplot as plt
import seaborn as sns

# Load dataset
data = pd.read_csv('../Datasets/sales_data.csv')

# Preview dataset
print(data.head())
print(data.info())
print(data.describe())

# 1. Total revenue by region
region_sales = data.groupby('Region')['Sales'].sum().sort_values(ascending=False)
print(region_sales)

# Bar chart for revenue by region
plt.figure(figsize=(8,5))
sns.barplot(x=region_sales.index, y=region_sales.values)
plt.title('Total Revenue by Region')
plt.ylabel('Revenue')
plt.xlabel('Region')
plt.show()

# 2. Top 5 products by quantity sold
top_products = data.groupby('Product')['Quantity'].sum().sort_values(ascending=False).head(5)
print(top_products)

# Pie chart for top products
plt.figure(figsize=(6,6))
plt.pie(top_products, labels=top_products.index, autopct='%1.1f%%', startangle=140)
plt.title('Top 5 Best-Selling Products')
plt.show()

# 3. Monthly sales trends
data['OrderDate'] = pd.to_datetime(data['OrderDate'])
data['Month'] = data['OrderDate'].dt.to_period('M')
monthly_trends = data.groupby(['Month', 'Category'])['Sales'].sum().unstack()
monthly_trends.plot(figsize=(10,5), marker='o')
plt.title('Monthly Sales Trend by Category')
plt.ylabel('Revenue')
plt.show()
